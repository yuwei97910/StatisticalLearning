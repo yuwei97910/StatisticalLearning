{
 "cells": [
  {
   "cell_type": "markdown",
   "source": [
    "# STAT 542 — Coding Assignment 1\n",
    "\n",
    "### YU-WEI LAI\n",
    "### UIN: 677679455\n",
    "#### 2021.09.12\n",
    "---- \n",
    "_Python is the main coding language used in the script._\n",
    "### **Import Libraries and Set Seed**"
   ],
   "metadata": {}
  },
  {
   "cell_type": "code",
   "execution_count": 1,
   "source": [
    "import numpy as np\n",
    "import math\n",
    "import random\n",
    "import matplotlib.pyplot as plt\n",
    "\n",
    "from sklearn import linear_model as lm\n",
    "from sklearn.neighbors import KNeighborsClassifier as knn\n",
    "from sklearn.metrics import classification_report, confusion_matrix\n",
    "\n",
    "random.seed(9455)\n",
    "np.random.seed(9455)\n"
   ],
   "outputs": [],
   "metadata": {}
  },
  {
   "cell_type": "markdown",
   "source": [
    "### **Data Generation**\n",
    "##### Set Default Value for data centers"
   ],
   "metadata": {}
  },
  {
   "cell_type": "code",
   "execution_count": 2,
   "source": [
    "### ---------------------------- ###\n",
    "### Data Generating\n",
    "### ---------------------------- ###\n",
    "\n",
    "p = 2;      \n",
    "csize = 10;     # number of centers\n",
    "sigma = 1;      # sd for generating the centers\n",
    "\n",
    "# Create centers for generating dataset\n",
    "m1 = np.random.normal(size = (csize, p)) * sigma \\\n",
    "     + np.concatenate([np.array([[1, 0]] * csize)])\n",
    "m0 = np.random.normal(size = (csize, p)) * sigma \\\n",
    "     + np.concatenate([np.array([[0, 1]] * csize)])"
   ],
   "outputs": [],
   "metadata": {}
  },
  {
   "cell_type": "markdown",
   "source": [
    "##### Function for Generating Data"
   ],
   "metadata": {}
  },
  {
   "cell_type": "code",
   "execution_count": 3,
   "source": [
    "# ---------------\n",
    "# Generate Data\n",
    "def generate_sim_data(sim_params):\n",
    "    p = sim_params['p']\n",
    "    s = sim_params['s']\n",
    "    n = sim_params['n']\n",
    "    N = sim_params['N'] \n",
    "    m1 = sim_params['m1']\n",
    "    m0 = sim_params['m0']\n",
    "    csize = sim_params['csize']\n",
    "    \n",
    "    id1 = np.random.randint(csize, size = n)\n",
    "    id0 = np.random.randint(csize, size = n)\n",
    "    traindata = np.random.normal(size = (2 * n, p)) * s + np.concatenate([m1[id1,:], m0[id0,:]])\n",
    "    y_train = np.concatenate(([1]*n, [0]*n))\n",
    "    shuffle_row_id = np.random.randint(n)\n",
    "    \n",
    "    id1 = np.random.randint(csize, size = N)\n",
    "    id0 = np.random.randint(csize, size = N)\n",
    "    testdata = np.random.normal(size = (2 * N, p)) * s + np.concatenate([m1[id1,:], m0[id0,:]])\n",
    "    y_test = np.concatenate(([1]*N, [0]*N))\n",
    "    \n",
    "    # Return the training/test data along with labels\n",
    "    return traindata, y_train, testdata, y_test"
   ],
   "outputs": [],
   "metadata": {}
  },
  {
   "cell_type": "markdown",
   "source": [
    "##### Use the function above to generate data"
   ],
   "metadata": {}
  },
  {
   "cell_type": "code",
   "execution_count": 4,
   "source": [
    "sim_params = dict({\n",
    "    'csize': 10,      # number of centers\n",
    "    'p': 2,           # dimension\n",
    "    's': math.sqrt(1/5),  # standard deviation for generating data\n",
    "    'n': 100,         # training size per class\n",
    "    'N': 5000,        # test size per class\n",
    "    'm0': m0,         # 10 centers for class 0\n",
    "    'm1': m1         # 10 centers for class 1\n",
    "    })\n",
    "\n",
    "traindata, y_train, testdata, y_test = generate_sim_data(sim_params)\n",
    "n = sim_params['n']\n",
    "N = sim_params['N']"
   ],
   "outputs": [],
   "metadata": {}
  },
  {
   "cell_type": "markdown",
   "source": [
    "### **Visualize the Generated Data**"
   ],
   "metadata": {}
  },
  {
   "cell_type": "code",
   "execution_count": 5,
   "source": [
    "# ---------------\n",
    "# Visulize the Generated Data\n",
    "plt.scatter(traindata[:n, 0], traindata[:n, 1], c = \"blue\", alpha=0.2, label='Class 1')\n",
    "plt.scatter(traindata[n:, 0], traindata[n:, 1], c = \"red\", alpha=0.2, label='Class 0')\n",
    "\n",
    "plt.scatter(m1[:,0], m1[:,1], marker = '+', s = 100, c = \"blue\")\n",
    "plt.scatter(m0[:,0], m0[:,1], marker = '+', s = 100, c = \"red\")\n",
    "\n",
    "plt.legend()\n",
    "plt.show()"
   ],
   "outputs": [
    {
     "output_type": "display_data",
     "data": {
      "image/png": "[encoded data removed]",
      "text/plain": [
       "<Figure size 432x288 with 1 Axes>"
      ]
     },
     "metadata": {
      "needs_background": "light"
     }
    }
   ],
   "metadata": {}
  },
  {
   "cell_type": "markdown",
   "source": [
    "----\n",
    "## **Part 1. KNN**\n",
    " ### **1. Write your own KNN code without using any packages**\n",
    " ### **2. Explain how you handle distance ties and voting ties;**"
   ],
   "metadata": {}
  },
  {
   "cell_type": "code",
   "execution_count": 6,
   "source": [
    "# ---------------\n",
    "# ---------------\n",
    "# Part 1. KNN\n",
    "\n",
    "# Write your own KNN code without using any packages;\n",
    "# Explain how you handle distance ties and voting ties;\n",
    "# Test your code with mydata when K = 1, 3, 5; compare your results with the ones from the R command knn.\n",
    "# Calculate Euclidean distance for two points\n",
    "\n",
    "def get_distance(p, q):\n",
    "    d = 0\n",
    "    d = (p[0] - q[0]) ** 2 + (p[1] - q[1]) ** 2\n",
    "    return math.sqrt(d)"
   ],
   "outputs": [],
   "metadata": {}
  },
  {
   "cell_type": "markdown",
   "source": [
    "The function `get_distance()` is used for calculating the Euclidean distance between two points. Pass two two-dimensional arrays, p and q, to the function, and the function will return the distance between p and q as a float."
   ],
   "metadata": {}
  },
  {
   "cell_type": "code",
   "execution_count": 7,
   "source": [
    "\n",
    "def myknn(testdata, traindata, y_train, k=1):\n",
    "    y_pred = list()\n",
    "\n",
    "    # Breaking Voting Tie\n",
    "    def voting_breaker(d_list):\n",
    "        c_list = [x[0] for x in d_list]\n",
    "        uniuqe_c = list(set(c_list))\n",
    "\n",
    "        # Calculate total distance for breaking the voting tie\n",
    "        total_dist = list()\n",
    "        for c in uniuqe_c:\n",
    "            total_dist.append(sum([x[1] for x in d_list if x[0] == c]))\n",
    "        \n",
    "        # Compare total distance and return the smallest result\n",
    "        if total_dist[0] > total_dist[1]:\n",
    "            return uniuqe_c[1]\n",
    "        elif total_dist[0] < total_dist[1]:\n",
    "            return uniuqe_c[0]\n",
    "        elif total_dist[0] == total_dist[1]:\n",
    "            return random.choice(uniuqe_c)\n",
    "\n",
    "    # Get predict for a test point\n",
    "    def get_predit(test, train_set, y_train, k=1):\n",
    "        # d_list: list contains [0]-train_label, [1]-distance\n",
    "        d_list = list()\n",
    "        for i, p in enumerate(train_set):\n",
    "            d_list.append([y_train[i], get_distance(p, test)])\n",
    "\n",
    "        # ------------ #\n",
    "        # Find the k nearest points for each point\n",
    "        d_list.sort(key = lambda x: x[1])\n",
    "        result_list = d_list[0:k]\n",
    "\n",
    "        # --- Distance ties\n",
    "        # Included all of them --- automatically add k\n",
    "        add_k = k\n",
    "        while d_list[add_k][1] > (result_list[-1][1] - (10**-6)) \\\n",
    "            and d_list[add_k][1] < (result_list[-1][1] + (10**-6)):\n",
    "            result_list.append(d_list[add_k])\n",
    "            add_k += 1\n",
    "            if add_k >= len(d_list):\n",
    "                break\n",
    "\n",
    "        # ------------ #\n",
    "        # Deside which category for each point\n",
    "        # c: category\n",
    "        c_list = [x[0] for x in result_list]\n",
    "        uniuqe_c = list(set(c_list))\n",
    "\n",
    "        c_result = ''\n",
    "        result_count = -1\n",
    "        for c in uniuqe_c:\n",
    "            count = c_list.count(c)\n",
    "            if count > result_count:\n",
    "                c_result = c\n",
    "                result_count = count\n",
    "\n",
    "            # --- Voting ties\n",
    "            elif count == result_count:\n",
    "                c_result = voting_breaker(result_list)\n",
    "        return c_result\n",
    "\n",
    "    # ------------ #\n",
    "    for x in testdata:\n",
    "        y_pred.append(get_predit(x, traindata, y_train, k=k))\n",
    "    return y_pred"
   ],
   "outputs": [],
   "metadata": {}
  },
  {
   "cell_type": "markdown",
   "source": [
    "The function `myknn()` is the main process to categorize datasets. In the function, there are two sub-functions, which are `voting_breaker()` and `get_predit()`. The former is used for breaking voting ties, and the latter is used for getting a prediction for one data point. In `get_predit()`, it required a training dataset, training y-labels, a testing point, and the k-value. The function will calculate distances for the point to each point in the training set by using the function `get_distance()` we already defined and select the closest k points. By those k-points’ categories, the function will decide the category for the point by selecting the most frequent category. If the frequency of k-points is the same, and then it goes into a voting tie. It will use the function `voting_breaker()` to break the tie.\n",
    "The function `myknn()` will use the function `get_predit()` for each point in the testing set, which size is N in our process. After the loop for prediction, the function will return the result of all category predictions as a one-dimensional list which length is also the same as the length of the testing set (N)."
   ],
   "metadata": {}
  },
  {
   "cell_type": "markdown",
   "source": [
    "\n",
    "#### Breaking “Distance Ties”\n",
    "In the sub-function `get_predit()`, if there are other distances which are no different from the farthest selected K by $10^{-6}$, the function will automatically add those points into the selected K-list.\n"
   ],
   "metadata": {}
  },
  {
   "cell_type": "markdown",
   "source": [
    "\n",
    "#### Breaking “Voting Ties”\n",
    "The function `voting_breaker()` is used for breaking voting ties. The method for deciding the final category is by calculating the total distance for both categories. For example, when K=4, there are both two selected points for category one and category two. If the sum of the distance from two points of category one to the test point is less than the sum of category two, the function will return that category one is the result of the test point.\n"
   ],
   "metadata": {}
  },
  {
   "cell_type": "markdown",
   "source": [
    "\n",
    "### **3. Test your code with mydata when K = 1, 3, 5; compare your results with the ones from the R command KNN.**\n",
    "#### When K = 1:\n",
    "- Python’s Result"
   ],
   "metadata": {}
  },
  {
   "cell_type": "code",
   "execution_count": 8,
   "source": [
    "# Compare with pre-defined package\n",
    "# K = 1\n",
    "# Python KNN Result\n",
    "pyknn = knn(n_neighbors = 1)\n",
    "pyknn.fit(traindata, y_train)\n",
    "y_pred = pyknn.predict(testdata)\n",
    "print(confusion_matrix(y_test, y_pred))"
   ],
   "outputs": [
    {
     "output_type": "stream",
     "name": "stdout",
     "text": [
      "[[3263 1737]\n",
      " [1788 3212]]\n"
     ]
    }
   ],
   "metadata": {}
  },
  {
   "cell_type": "markdown",
   "source": [
    "- My Result"
   ],
   "metadata": {}
  },
  {
   "cell_type": "code",
   "execution_count": 9,
   "source": [
    "\n",
    "# My KNN Results\n",
    "y_pred = myknn(testdata, traindata, y_train, k=1)\n",
    "print(confusion_matrix(y_test, y_pred))"
   ],
   "outputs": [
    {
     "output_type": "stream",
     "name": "stdout",
     "text": [
      "[[3263 1737]\n",
      " [1788 3212]]\n"
     ]
    }
   ],
   "metadata": {}
  },
  {
   "cell_type": "markdown",
   "source": [
    "#### When K = 3:\n",
    "- Python’s Result"
   ],
   "metadata": {}
  },
  {
   "cell_type": "code",
   "execution_count": 10,
   "source": [
    "# K = 3\n",
    "# Python KNN Result\n",
    "pyknn = knn(n_neighbors = 3)\n",
    "pyknn.fit(traindata, y_train)\n",
    "y_pred = pyknn.predict(testdata)\n",
    "print(confusion_matrix(y_test, y_pred))"
   ],
   "outputs": [
    {
     "output_type": "stream",
     "name": "stdout",
     "text": [
      "[[3251 1749]\n",
      " [1457 3543]]\n"
     ]
    }
   ],
   "metadata": {}
  },
  {
   "cell_type": "markdown",
   "source": [
    "- My Result"
   ],
   "metadata": {}
  },
  {
   "cell_type": "code",
   "execution_count": 11,
   "source": [
    "# My KNN Results\n",
    "y_pred = myknn(testdata, traindata, y_train, k=3)\n",
    "print(confusion_matrix(y_test, y_pred))"
   ],
   "outputs": [
    {
     "output_type": "stream",
     "name": "stdout",
     "text": [
      "[[3251 1749]\n",
      " [1457 3543]]\n"
     ]
    }
   ],
   "metadata": {}
  },
  {
   "cell_type": "markdown",
   "source": [
    "#### When K = 5:\n",
    "- Python’s Result"
   ],
   "metadata": {}
  },
  {
   "cell_type": "code",
   "execution_count": 12,
   "source": [
    "# K = 5\n",
    "# Python KNN Result\n",
    "pyknn = knn(n_neighbors = 5)\n",
    "pyknn.fit(traindata, y_train)\n",
    "y_pred = pyknn.predict(testdata)\n",
    "print(confusion_matrix(y_test, y_pred))"
   ],
   "outputs": [
    {
     "output_type": "stream",
     "name": "stdout",
     "text": [
      "[[3179 1821]\n",
      " [1283 3717]]\n"
     ]
    }
   ],
   "metadata": {}
  },
  {
   "cell_type": "markdown",
   "source": [
    "- My Result"
   ],
   "metadata": {}
  },
  {
   "cell_type": "code",
   "execution_count": 13,
   "source": [
    "# My KNN Results\n",
    "y_pred = myknn(testdata, traindata, y_train, k=5)\n",
    "print(confusion_matrix(y_test, y_pred))"
   ],
   "outputs": [
    {
     "output_type": "stream",
     "name": "stdout",
     "text": [
      "[[3179 1821]\n",
      " [1283 3717]]\n"
     ]
    }
   ],
   "metadata": {}
  },
  {
   "cell_type": "markdown",
   "source": [
    "The KNN package from Scikit-learn is used as prediction benchmark, and the confusion matrix is used for displaying the result. From testing examples above, we can find out that the results of self-defined function and the Python’s package are the same."
   ],
   "metadata": {}
  },
  {
   "cell_type": "markdown",
   "source": [
    "----\n",
    "## **Part II. Repeat Process for Training and Testing.**\n",
    "In this part, four prediction methods are defined as functions. All of these functions required training data, training labels, testing data, and testing labels. Functions will return a ‘result’ dictionary with training error and testing error recorded, while KNN method will also record selected best K value and cross validation selecting criteria.\n",
    "#### Linear Regression"
   ],
   "metadata": {}
  },
  {
   "cell_type": "code",
   "execution_count": 14,
   "source": [
    "# Part II\n",
    "# In the second part of this assignment, you are asked to use the same set of centers m1 and m0, and repeat the data generating process using generate_sim_data 50 times. For each dataset, calculate the training and test errors (the averaged 0/1 error) for each the following four procedures:\n",
    "\n",
    "# Linear regression with cut-off value 0.5,\n",
    "# quadratic regression with cut-off value 0.5,\n",
    "# KNN classification with K chosen by 10-fold cross-validation, and\n",
    "# the Bayes rule (assume your know the values of 20 centers and s).\n",
    "\n",
    "# ---------------\n",
    "# ---------------\n",
    "\n",
    "# Linear Regression\n",
    "def linear_regression(traindata, y_train, testdata, y_test, n, N):\n",
    "    linear_model = lm.LinearRegression()\n",
    "    linear_model.fit(traindata, y_train)\n",
    "\n",
    "    y_train_pred_LS = linear_model.predict(traindata)\n",
    "    y_test_pred_LS = linear_model.predict(testdata)\n",
    "    # print('R-square: ', linear_model.score(traindata, y_train))\n",
    "    # print('MSE: ', np.mean((linear_model.predict(traindata) - y_train) ** 2))\n",
    "\n",
    "    y_train_pred_LS = [1 if i >= 0.5 else 0 for i in y_train_pred_LS]\n",
    "    y_test_pred_LS = [1 if i >= 0.5 else 0 for i in y_test_pred_LS]\n",
    "\n",
    "    result = dict()\n",
    "    result['train_error'] = sum(y_train != y_train_pred_LS) / float(2*n)\n",
    "    result['test_error'] = sum(y_test != y_test_pred_LS) / float(2*N)\n",
    "    # print('LM: ', result['train_error'], result['test_error'])\n",
    "\n",
    "    return result\n"
   ],
   "outputs": [],
   "metadata": {}
  },
  {
   "cell_type": "markdown",
   "source": [
    "In the part of linear regression, the linear method from Scikit-learn is used. First, the function will fit a linear model. With the model, then it will get prediction for training data and testing data with 0.5 cut-off value. Finally, by comparing predicted results with actual labels, the function will calculate the training error and the testing error."
   ],
   "metadata": {}
  },
  {
   "cell_type": "markdown",
   "source": [
    "#### Quadratic Regression"
   ],
   "metadata": {}
  },
  {
   "cell_type": "code",
   "execution_count": 15,
   "source": [
    "# Quadratic Regression\n",
    "def quad_regression(traindata, y_train, testdata, y_test, n, N):\n",
    "    train_quad = np.array([np.array([x[0], x[0]**2, x[1], x[1]**2, x[0]*x[1]]) for x in traindata])\n",
    "    test_quad = np.array([np.array([x[0], x[0]**2, x[1], x[1]**2, x[0]*x[1]]) for x in testdata])\n",
    "\n",
    "    quad_model = lm.LinearRegression()\n",
    "    quad_model.fit(train_quad, y_train)\n",
    "\n",
    "    # print('R-square: ', quad_model.score(train_quad, y_train))\n",
    "    # print('MSE: ', np.mean((quad_model.predict(train_quad) - y_train) ** 2))\n",
    "\n",
    "    y_train_pred_quad = quad_model.predict(train_quad)\n",
    "    y_test_pred_quad = quad_model.predict(test_quad)\n",
    "\n",
    "    y_train_pred_quad = [1 if i >= 0.5 else 0 for i in y_train_pred_quad]\n",
    "    y_test_pred_quad = [1 if i >= 0.5 else 0 for i in y_test_pred_quad]\n",
    "\n",
    "    result = dict()\n",
    "    result['train_error'] = sum(y_train != y_train_pred_quad) / float(2*n)\n",
    "    result['test_error'] = sum(y_test != y_test_pred_quad) / float(2*N)\n",
    "    # print('Quad Regression: ', result['train_error'], result['test_error'])\n",
    "\n",
    "    return result"
   ],
   "outputs": [],
   "metadata": {}
  },
  {
   "cell_type": "markdown",
   "source": [
    "In the part of quadratic regression, the function will first create quadratic terms and interaction terms for the data. Then it will also fit the linear model from Scikit-learn package with training data. Thereafter, similar process with the linear method, we get prediction by using the transformed data in the model. Finally, the function will return the training error and the testing error stored in the ‘result’ dictionary."
   ],
   "metadata": {}
  },
  {
   "cell_type": "markdown",
   "source": [
    "#### KNN with 10-fold Cross Validation"
   ],
   "metadata": {}
  },
  {
   "cell_type": "code",
   "execution_count": 16,
   "source": [
    "# KNN with 10-fold cross-validation\n",
    "def cv_knn_ave_error_rate(traindata, y_train, fold_num=10, k=1):\n",
    "    n = len(traindata)\n",
    "    fold_size = int(n//fold_num)\n",
    "    pyknn = knn(n_neighbors = k)\n",
    "\n",
    "    my_index = list(range(0, n))\n",
    "    random.shuffle(my_index) # random suffle will in place the original list\n",
    "\n",
    "    error = 0\n",
    "    for run_id in range(1, fold_num + 1):\n",
    "        if run_id == fold_num:\n",
    "            fold_index = list(range((run_id-1)*fold_size, n))\n",
    "        else:\n",
    "            fold_index = list(range((run_id-1)*fold_size, run_id*fold_size))\n",
    "        \n",
    "        test_set_index = [my_index[i] for i in fold_index]\n",
    "        train_set_index = [my_index[i] for i in range(0, len(my_index)) if i not in fold_index]\n",
    "        \n",
    "        train_x = [traindata[i] for i in train_set_index]\n",
    "        train_y = [y_train[i] for i in train_set_index]\n",
    "        test_x = [traindata[i] for i in test_set_index]\n",
    "        test_y = [y_train[i] for i in test_set_index]\n",
    "        \n",
    "        pyknn.fit(train_x, train_y) # Use pre-defined knn method\n",
    "        predict_y = pyknn.predict(test_x)\n",
    "        \n",
    "        # error = error + sum(predict_y != test_y)\n",
    "        for i, x in enumerate(predict_y):\n",
    "            if x != test_y[i]:\n",
    "                error = error + 1\n",
    "\n",
    "    error = error / n\n",
    "    return error\n",
    "\n",
    "def cv_knn(traindata, y_train, testdata, y_test, n, N, fold_num):\n",
    "    n = len(traindata)\n",
    "    fold_size = int(n//fold_num)  \n",
    "    k_vector = list(range(1, (len(traindata) - fold_size), 1))\n",
    "    cvErrorRates = list()\n",
    "    for k in k_vector:\n",
    "        cvErrorRates.append(cv_knn_ave_error_rate(traindata, y_train, fold_num, k))\n",
    "    \n",
    "    result = dict()\n",
    "    # result['best_k'] = max(k_vector[cvErrorRates == min(cvErrorRates)])\n",
    "    \n",
    "    result['best_k'] = max([k_vector[i] for i, error in enumerate(cvErrorRates) if error == min(cvErrorRates)])\n",
    "    result['cv_error'] = min(cvErrorRates)\n",
    "    # result['cv_error'] = cvErrorRates[k_vector == result['best_k']]\n",
    "\n",
    "    pyknn = knn(n_neighbors = result['best_k'])\n",
    "    pyknn.fit(traindata, y_train)\n",
    "    y_train_pred = pyknn.predict(traindata)\n",
    "    y_test_pred = pyknn.predict(testdata)\n",
    "    result['train_error'] = sum(y_train != y_train_pred) / float(n)\n",
    "    result['test_error'] = sum(y_test != y_test_pred) / float(2*N)\n",
    "    # print('CV KNN:', result['train_error'], result['test_error'])\n",
    "\n",
    "    return result"
   ],
   "outputs": [],
   "metadata": {}
  },
  {
   "cell_type": "markdown",
   "source": [
    "The function `cv_knn_ave_error_rate` is used for dividing training into given folds and calculate the average error rate. This function required the k-value setting. First, a random index list is created for not training folds with original orders. For the given folds, it will divide into two groups by the fold size, and fit the KNN with the largest set. Then we can get prediction and calculate error per time. The method will continuously do by given fold times.\n",
    "In the main process `cv_knn` it will use the function `cv_knn_ave_error_rate` to get cross validation error for each K. With the error toward each K value, the function will select the K value with the lowest error rate. If the error rates are the same, the function will choose the larger K due to less complexity of the model. With the K value, the function will train a final model, and make prediction with training set and testing set. Compared with original category labels, the function will calculate and return the training error and the testing error."
   ],
   "metadata": {}
  },
  {
   "cell_type": "markdown",
   "source": [
    "#### Bayes Rule"
   ],
   "metadata": {}
  },
  {
   "cell_type": "code",
   "execution_count": 17,
   "source": [
    "# Bayes rule\n",
    "def bayes_rule(traindata, y_train, testdata, y_test, n, N, sigma, m1, m0):\n",
    "    def mixnorm(x, centers0=m0, centers1=m1, sigma=sigma):\n",
    "        ## return the density ratio for a point x, where each density is a mixture of normal with multiple components            \n",
    "        d1 = sum([math.exp(get_distance(m, x)**2/(-2 * sigma ** 2)) for m in centers1])\n",
    "        d0 = sum([math.exp(get_distance(m, x)**2/(-2 * sigma ** 2)) for m in centers0])\n",
    "    \n",
    "        return (d1 / d0)\n",
    "\n",
    "    y_test_pred = [mixnorm(x) > 1 for x in testdata]\n",
    "    y_train_pred = [mixnorm(x) > 1 for x in traindata]\n",
    "\n",
    "    result = dict()\n",
    "    result['train_error'] = sum(y_train !=  y_train_pred) / float(2*n)\n",
    "    result['test_error'] = sum(y_test !=  y_test_pred) / float(2*N)\n",
    "    # print('Bayes:', result['train_error'], result['test_error'])\n",
    "\n",
    "    return result"
   ],
   "outputs": [],
   "metadata": {}
  },
  {
   "cell_type": "markdown",
   "source": [
    "The sub-function `mixnorm()` is used for calculating the density ratio for a point, it follows the formula:\n",
    "\n",
    "$\\frac{\\sum_{j=1}^{10}exp\\{-\\frac{1}{2s^2}||m_{1j}-x||^2\\}}{\\sum_{j=1}^{10}exp\\{-\\frac{1}{2s^2}||m_{0j}-x||^2\\}}$\n",
    "\n",
    "With the density ratio, the function will categorize each points in both training data set and testing data set. Then it will calculate and return the training error and testing error."
   ],
   "metadata": {}
  },
  {
   "cell_type": "markdown",
   "source": [
    "### Repeat 50 times for the methods above\n",
    "Use the function `linear_regression()`, `quad_regression()`, `cv_knn()`, and `bayes_rule()` defined above for 50 times. Each time, the program will record the result in the dictionaries regarding methods. Keys for dictionaries will be the round that run methods, and values will be another dictionary, which is described above."
   ],
   "metadata": {}
  },
  {
   "cell_type": "code",
   "execution_count": 18,
   "source": [
    "# Try 50 times and record their performance\n",
    "lm_result = dict()\n",
    "quad_result = dict()\n",
    "cv_knn_result = dict()\n",
    "bayes_result = dict()\n",
    "\n",
    "for i in range(50):\n",
    "    # print(i, ':\\nTrain Error | Test Error')\n",
    "    traindata, y_train, testdata, y_test = generate_sim_data(sim_params)\n",
    "\n",
    "    lm_result[i] = linear_regression(traindata, y_train, testdata, y_test, n, N)\n",
    "    quad_result[i] = quad_regression(traindata, y_train, testdata, y_test, n, N)\n",
    "    cv_knn_result[i] = cv_knn(traindata, y_train, testdata, y_test, n, N, fold_num=10)\n",
    "    bayes_result[i] = bayes_rule(traindata, y_train, testdata, y_test, n, N, sigma, m1, m0)"
   ],
   "outputs": [],
   "metadata": {}
  },
  {
   "cell_type": "markdown",
   "source": [
    "### Plot the results: Training Error and Test Error\n",
    "Since we stored the results in four dictionaries, we have to extract training error and testing error from dictionaries. Therefore, the function `extrat_error()` is defined. The function will extract several dictionaries’ training error and testing error. After we recorded those error in lists, we can visualize the error by box plot defined by Matplotlib.(Matplotlib: Group Boxplots, 2013)"
   ],
   "metadata": {}
  },
  {
   "cell_type": "code",
   "execution_count": 19,
   "source": [
    "# Plot the Result\n",
    "# Reference: https://stackoverflow.com/questions/16592222/matplotlib-group-boxplots\n",
    "\n",
    "def extrat_error(*args):\n",
    "    data_train_error = list()\n",
    "    data_test_error = list()\n",
    "    for arg in args:\n",
    "        data_train_error.append([x['train_error'] for x in arg.values()])\n",
    "        data_test_error.append([x['test_error'] for x in arg.values()])\n",
    "\n",
    "    return data_train_error, data_test_error\n",
    "\n",
    "def set_box_color(bp, color):\n",
    "    plt.setp(bp['boxes'], color=color)\n",
    "    plt.setp(bp['whiskers'], color=color)\n",
    "    plt.setp(bp['caps'], color=color)\n",
    "    plt.setp(bp['medians'], color=color)\n",
    "\n",
    "data_train_error, data_test_error = extrat_error(lm_result, quad_result, cv_knn_result, bayes_result)\n",
    "ticks = ['Linear\\nRegression', 'Quadratic\\nRegression', 'CV_KNN', 'Bayes\\nRule']\n",
    "\n",
    "plt.figure()\n",
    "bpl = plt.boxplot(data_train_error, positions=np.array(range(len(data_train_error)))*2 - 0.3, sym='')\n",
    "bpr = plt.boxplot(data_test_error, positions=np.array(range(len(data_test_error)))*2 + 0.3, sym='')\n",
    "\n",
    "# Set bar color\n",
    "set_box_color(bpl, 'red')\n",
    "set_box_color(bpr, 'blue')\n",
    "\n",
    "# Create a legend\n",
    "plt.plot([], c='red', label='Train Error')\n",
    "plt.plot([], c='blue', label='Test Error')\n",
    "plt.legend()\n",
    "\n",
    "# Adjust range for x and y\n",
    "plt.xticks(range(0, len(ticks) * 2, 2), ticks)\n",
    "plt.ylim(0, 0.5)\n",
    "plt.ylabel('Error', loc='top')\n",
    "plt.show()"
   ],
   "outputs": [
    {
     "output_type": "display_data",
     "data": {
      "image/png": "[encoded data removed]",
      "text/plain": [
       "<Figure size 432x288 with 1 Axes>"
      ]
     },
     "metadata": {
      "needs_background": "light"
     }
    }
   ],
   "metadata": {}
  },
  {
   "cell_type": "markdown",
   "source": [
    "### Report the mean and standard error for the chosen K values"
   ],
   "metadata": {}
  },
  {
   "cell_type": "code",
   "execution_count": 20,
   "source": [
    "# Mean and Standard Error for Chosen K from CV KNN\n",
    "chosen_k = [x['best_k'] for x in cv_knn_result.values()]\n",
    "print('Mean: ', np.mean(chosen_k))\n",
    "print('Standard Error: ', np.std(chosen_k) / np.sqrt(np.size(chosen_k)))"
   ],
   "outputs": [
    {
     "output_type": "stream",
     "name": "stdout",
     "text": [
      "Mean:  56.12\n",
      "Standard Error:  7.390785614533816\n"
     ]
    }
   ],
   "metadata": {}
  },
  {
   "cell_type": "code",
   "execution_count": 21,
   "source": [
    "plt.hist(chosen_k, 100)\n",
    "plt.xlabel('K Values')\n",
    "plt.ylabel('Times')\n",
    "plt.show()"
   ],
   "outputs": [
    {
     "output_type": "display_data",
     "data": {
      "image/png": "[encoded data removed]",
      "text/plain": [
       "<Figure size 432x288 with 1 Axes>"
      ]
     },
     "metadata": {
      "needs_background": "light"
     }
    }
   ],
   "metadata": {}
  },
  {
   "cell_type": "markdown",
   "source": [
    "## Reference\n",
    "- IS 542: (PSL) Coding Assignment 1\n",
    "- IS 542: Week 1 Lecture Notes and Coding Examples\n",
    "- Matplotlib: Group box plots. (2013, May 16). Stack Overflow. https://stackoverflow.com/questions/16592222/matplotlib-group-boxplots"
   ],
   "metadata": {}
  }
 ],
 "metadata": {
  "orig_nbformat": 4,
  "language_info": {
   "name": "python",
   "version": "3.8.8",
   "mimetype": "text/x-python",
   "codemirror_mode": {
    "name": "ipython",
    "version": 3
   },
   "pygments_lexer": "ipython3",
   "nbconvert_exporter": "python",
   "file_extension": ".py"
  },
  "kernelspec": {
   "name": "python3",
   "display_name": "Python 3.8.8 64-bit ('base': conda)"
  },
  "interpreter": {
   "hash": "12fd716f01c03ddd6b34aa253bcbef7c9a8e52f96090d4534a8c27234e10e336"
  }
 },
 "nbformat": 4,
 "nbformat_minor": 2
}